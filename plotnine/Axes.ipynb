{
 "cells": [
  {
   "cell_type": "code",
   "execution_count": null,
   "metadata": {
    "collapsed": true
   },
   "outputs": [],
   "source": [
    "from plotnine import *\n",
    "import numpy as np\n",
    "import pandas as pd\n",
    "import scipy\n",
    "import matplotlib.pyplot as plt\n",
    "\n",
    "%matplotlib inline"
   ]
  },
  {
   "cell_type": "code",
   "execution_count": null,
   "metadata": {
    "collapsed": true
   },
   "outputs": [],
   "source": [
    "pg_mean= pd.read_csv(\"./data/pg_mean.csv\")\n",
    "BOD = pd.DataFrame({\"Time\":[1,2,3,4,5,7],'demand':[8.3,10.3,19.0,16.0,15.6,19.8]})\n",
    "cabbage_exp = pd.read_csv(\"./data/cabbage_exp.csv\")\n",
    "diamonds = pd.read_csv(\"./data/diamonds.csv\")\n",
    "upc = pd.read_csv(\"./data/upc.csv\")\n",
    "csub = pd.read_csv(\"./data/csub.csv\")\n",
    "tophitters2001 = pd.read_csv(\"./data/tophitters2001.csv\")\n",
    "worldpop = pd.read_csv(\"./data/worldpop.csv\")\n",
    "ToothGrowth = pd.read_csv(\"./data/ToothGrowth.csv\")\n",
    "uspopage = pd.read_csv(\"./data/uspopage.csv\")\n",
    "climate = pd.read_csv(\"./data/climate.csv\")\n",
    "heightweight = pd.read_csv(\"./data/heightweight.csv\")\n",
    "biopsy = pd.read_csv(\"./data/biopsy.csv\")\n",
    "faithful = pd.read_csv(\"./data/faithful.csv\")\n",
    "countries = pd.read_csv(\"./data/countries.csv\")\n",
    "birthwt = pd.read_csv(\"./data/birthwt.csv\")\n",
    "birthwt['smoke1']=birthwt['smoke'].replace({0:'No Smoke',1:'Smoke'})\n",
    "countries2009 = countries.query('Year==2009 and healthexp>2000').copy()\n",
    "PlantGrowth = pd.read_csv(\"./data/PlantGrowth.csv\")\n",
    "mpg = pd.read_csv(\"./data/mpg.csv\")"
   ]
  },
  {
   "cell_type": "markdown",
   "metadata": {},
   "source": [
    "# Axes"
   ]
  },
  {
   "cell_type": "markdown",
   "metadata": {},
   "source": [
    "## Swapping X- and Y-Axes"
   ]
  },
  {
   "cell_type": "code",
   "execution_count": null,
   "metadata": {
    "collapsed": true
   },
   "outputs": [],
   "source": []
  }
 ],
 "metadata": {
  "kernelspec": {
   "display_name": "Python [conda root]",
   "language": "python",
   "name": "conda-root-py"
  },
  "language_info": {
   "codemirror_mode": {
    "name": "ipython",
    "version": 3
   },
   "file_extension": ".py",
   "mimetype": "text/x-python",
   "name": "python",
   "nbconvert_exporter": "python",
   "pygments_lexer": "ipython3",
   "version": "3.6.2"
  },
  "toc": {
   "colors": {
    "hover_highlight": "#DAA520",
    "navigate_num": "#000000",
    "navigate_text": "#333333",
    "running_highlight": "#FF0000",
    "selected_highlight": "#FFD700",
    "sidebar_border": "#EEEEEE",
    "wrapper_background": "#FFFFFF"
   },
   "moveMenuLeft": true,
   "nav_menu": {
    "height": "38px",
    "width": "254px"
   },
   "navigate_menu": true,
   "number_sections": true,
   "sideBar": true,
   "threshold": 4,
   "toc_cell": false,
   "toc_section_display": "block",
   "toc_window_display": false,
   "widenNotebook": false
  },
  "varInspector": {
   "cols": {
    "lenName": 16,
    "lenType": 16,
    "lenVar": 40
   },
   "kernels_config": {
    "python": {
     "delete_cmd_postfix": "",
     "delete_cmd_prefix": "del ",
     "library": "var_list.py",
     "varRefreshCmd": "print(var_dic_list())"
    },
    "r": {
     "delete_cmd_postfix": ") ",
     "delete_cmd_prefix": "rm(",
     "library": "var_list.r",
     "varRefreshCmd": "cat(var_dic_list()) "
    }
   },
   "types_to_exclude": [
    "module",
    "function",
    "builtin_function_or_method",
    "instance",
    "_Feature"
   ],
   "window_display": false
  }
 },
 "nbformat": 4,
 "nbformat_minor": 2
}
